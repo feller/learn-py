{
 "cells": [
  {
   "cell_type": "code",
   "execution_count": 34,
   "metadata": {
    "collapsed": false
   },
   "outputs": [],
   "source": [
    "\n",
    "from matplotlib.backends.backend_agg import FigureCanvasAgg\n",
    "from matplotlib.figure import Figure\n",
    "import matplotlib.pyplot as plt\n",
    "import pandas as pd\n",
    "import numpy as np\n",
    "from matplotlib.dates import DateFormatter\n",
    "\n",
    "\n",
    "def calculate(df, element, func):\n",
    "    res = df[df['Element'] == element].groupby('Period').agg({'Data_Value': func})\n",
    "    res.index = res.index.map(lambda d: pd.to_datetime(d, format='%m%d'))\n",
    "    return res\n",
    "\n",
    "binsize = 400\n",
    "hashid = 'fb441e62df2d58994928907a91895ec62c2c42e6cd075c2700843b89'\n",
    "df = pd.read_csv('data/C2A2_data/BinnedCsvs_d400/fb441e62df2d58994928907a91895ec62c2c42e6cd075c2700843b89.csv')\n",
    "df['Data_Value'] = df['Data_Value']/10\n",
    "df['Date'] = pd.to_datetime(df['Date'])\n",
    "df = df[~((df['Date'].dt.month == 2) & (df['Date'].dt.day == 29))]\n",
    "df['Period']  = df['Date'].apply(lambda d: d.strftime('%m%d'))\n",
    "\n",
    "\n",
    "df2015 = df[df['Date'].dt.year == 2015]\n",
    "dfHist = df[df['Date'].dt.year < 2015]\n",
    "\n",
    "# Data_Value\n",
    "dfHist_min = calculate(dfHist, 'TMIN', np.min)\n",
    "dfHist_max = calculate(dfHist, 'TMAX', np.max) \n",
    "\n",
    "df2015_min = calculate(df2015, 'TMIN', np.min)\n",
    "df2015_max = calculate(df2015, 'TMAX', np.max) \n",
    "\n",
    "df2015_below_min = pd.merge(df2015_min, dfHist_min, left_index = True, right_index=True)\n",
    "df2015_below_min['below'] = df2015_below_min.apply(\n",
    "    lambda r : r['Data_Value_x'] if r['Data_Value_x'] < r['Data_Value_y'] else None, axis=1)\n",
    "df2015_below_min = df2015_below_min[['below']]\n",
    "\n",
    "df2015_above_max = pd.merge(df2015_max, dfHist_max, left_index = True, right_index=True)\n",
    "df2015_above_max['above'] = df2015_above_max.apply(\n",
    "    lambda r : r['Data_Value_x'] if r['Data_Value_x'] > r['Data_Value_y'] else None, axis=1)\n",
    "df2015_above_max = df2015_above_max[['above']]\n",
    "\n",
    "plt.figure()\n",
    "plt.title('Temperatures on Ann Arbor, MI (2005-2015)')\n",
    "plt.ylabel('℃ degrees')\n",
    "plt.plot(dfHist_max, '-', color='lightcoral')\n",
    "plt.plot(dfHist_min, '-', color='tab:blue')\n",
    "plt.scatter(df2015_above_max.index, df2015_above_max['above'].values, color='red', marker='.', s=100)\n",
    "plt.scatter(df2015_below_min.index, df2015_below_min['below'].values, color='blue', marker='.', s=100)\n",
    "\n",
    "plt.gca().fill_between(dfHist_max.index, \n",
    "                       dfHist_min['Data_Value'].values, dfHist_max['Data_Value'].values, \n",
    "                      facecolor='grey', alpha=0.25)\n",
    "\n",
    "\n",
    "x = plt.gca().xaxis\n",
    "\n",
    "plt.gca().set_xticks(list(filter(lambda i:i.day==15, dfHist_max.index)))\n",
    "x.set_major_formatter(DateFormatter('%b'))\n",
    "\n",
    "for item in x.get_ticklabels():\n",
    "    item.set_rotation(45)\n",
    "    \n",
    "for spine in plt.gca().spines.values():\n",
    "    spine.set_visible(False) \n",
    "    \n",
    "plt.tick_params(top='off', bottom='off', left='off', right='off', labelleft='on', labelbottom='on')\n",
    "    \n",
    "\n",
    "plt.legend(['2005-2014 record highs','2005-2014 record lows','2015 record high','2015 record low'], loc='best')\n",
    "\n",
    "\n",
    "\n",
    "plt.savefig('assignment2.png', transparent=False)\n"
   ]
  },
  {
   "cell_type": "code",
   "execution_count": 32,
   "metadata": {
    "collapsed": false
   },
   "outputs": [
    {
     "data": {
      "text/html": [
       "<img src='assignment2.png' />"
      ],
      "text/plain": [
       "<IPython.core.display.HTML object>"
      ]
     },
     "metadata": {},
     "output_type": "display_data"
    }
   ],
   "source": []
  },
  {
   "cell_type": "code",
   "execution_count": null,
   "metadata": {
    "collapsed": true
   },
   "outputs": [],
   "source": []
  }
 ],
 "metadata": {
  "kernelspec": {
   "display_name": "Python 3",
   "language": "python",
   "name": "python3"
  },
  "language_info": {
   "codemirror_mode": {
    "name": "ipython",
    "version": 3
   },
   "file_extension": ".py",
   "mimetype": "text/x-python",
   "name": "python",
   "nbconvert_exporter": "python",
   "pygments_lexer": "ipython3",
   "version": "3.6.2"
  }
 },
 "nbformat": 4,
 "nbformat_minor": 1
}
